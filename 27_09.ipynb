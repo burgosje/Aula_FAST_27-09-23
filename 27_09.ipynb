{
  "nbformat": 4,
  "nbformat_minor": 0,
  "metadata": {
    "colab": {
      "provenance": [],
      "include_colab_link": true
    },
    "kernelspec": {
      "name": "python3",
      "display_name": "Python 3"
    },
    "language_info": {
      "name": "python"
    }
  },
  "cells": [
    {
      "cell_type": "markdown",
      "metadata": {
        "id": "view-in-github",
        "colab_type": "text"
      },
      "source": [
        "<a href=\"https://colab.research.google.com/github/burgosje/Aula_FAST_27-09-23/blob/main/27_09.ipynb\" target=\"_parent\"><img src=\"https://colab.research.google.com/assets/colab-badge.svg\" alt=\"Open In Colab\"/></a>"
      ]
    },
    {
      "cell_type": "markdown",
      "source": [
        "Aula FAST Transição 27/09/23"
      ],
      "metadata": {
        "id": "u9ZTPBAYvNMR"
      }
    },
    {
      "cell_type": "code",
      "source": [
        "#Coleta os valores de produtos de uma compra e caso o valor seja maior que 1000, aplica desconto de 10%\n",
        "total = 0\n",
        "\n",
        "while True:\n",
        "    valor = float(input(\"Digite o valor do produto (ou 0 para encerrar): \"))\n",
        "\n",
        "    if valor == 0:\n",
        "        break\n",
        "    elif valor<0:\n",
        "      print (\"Valor inválido\")\n",
        "\n",
        "    total += valor\n",
        "\n",
        "    if total > 1000:\n",
        "        total = total * 0.9\n",
        "\n",
        "print(f\"O valor da compra com desconto é de {total}\")"
      ],
      "metadata": {
        "id": "oLWjckchyuhN"
      },
      "execution_count": null,
      "outputs": []
    },
    {
      "cell_type": "code",
      "source": [
        "#Solicita o ano de nascimento de 5 pessoas e informa quantas são maiores ou menores de idade\n",
        "from datetime import date\n",
        "\n",
        "ano_atual = date.today().year\n",
        "maior_idade = 0\n",
        "menor_idade = 0\n",
        "\n",
        "for i in range(5):\n",
        "  ano = int(input(\"Digite o seu ano de nascimento: \"))\n",
        "\n",
        "  if ano_atual-ano>=18:\n",
        "    maior_idade+=1\n",
        "  else:\n",
        "    menor_idade+=1\n",
        "\n",
        "print(f\"{maior_idade} pessoas são maiores de idade e {menor_idade} são menores de idade: \")"
      ],
      "metadata": {
        "colab": {
          "base_uri": "https://localhost:8080/"
        },
        "id": "IxMfjQhgCmqg",
        "outputId": "7d874be2-29b9-4fd5-af09-74726156dba5"
      },
      "execution_count": null,
      "outputs": [
        {
          "output_type": "stream",
          "name": "stdout",
          "text": [
            "Digite o seu ano de nascimento: 2000\n",
            "Digite o seu ano de nascimento: 2000\n",
            "Digite o seu ano de nascimento: 2000\n",
            "Digite o seu ano de nascimento: 2000\n",
            "Digite o seu ano de nascimento: 2000\n",
            "5 pessoas são maiores de idade e 0 são menores de idade: \n"
          ]
        }
      ]
    },
    {
      "cell_type": "code",
      "source": [
        "#01. Faça um programa que peça 10 números inteiros, calcule e mostre a\n",
        "# quantidade de números pares e a quantidade de números ímpares.\n",
        "\n",
        "impares = 0\n",
        "pares = 0\n",
        "\n",
        "for i in range(10):\n",
        "  numero = int(input(\"Digite um número: \"))\n",
        "\n",
        "  if numero%2==0:\n",
        "    pares+=1\n",
        "  else:\n",
        "    impares+=1\n",
        "\n",
        "print(f\"{pares} números pares e {impares} números ímpares\")"
      ],
      "metadata": {
        "colab": {
          "base_uri": "https://localhost:8080/"
        },
        "id": "cfSNo6yPHNbc",
        "outputId": "023f78a1-9b12-4e0a-930c-385bf1063438"
      },
      "execution_count": null,
      "outputs": [
        {
          "output_type": "stream",
          "name": "stdout",
          "text": [
            "Digite um número: 1\n",
            "Digite um número: 2\n",
            "Digite um número: 3\n",
            "Digite um número: 4\n",
            "Digite um número: 5\n",
            "Digite um número: 6\n",
            "Digite um número: 7\n",
            "Digite um número: 8\n",
            "Digite um número: 9\n",
            "Digite um número: 10\n",
            "5 números pares e 5 números ímpares\n"
          ]
        }
      ]
    },
    {
      "cell_type": "code",
      "source": [
        "#2. Foi realizada uma pesquisa de algumas características físicas de 5 alunos de um\n",
        "#curso, a qual coletou os seguintes dados referentes a cada pessoa para serem\n",
        "#analisados:\n",
        "#sexo (masculino e feminino)\n",
        "#cor dos olhos (azuis, verdes ou castanhos)\n",
        "#cor dos cabelos ( louros, castanhos, pretos)\n",
        "#idade\n",
        "\n",
        "#Faça um algoritmo que determine e escreva:\n",
        "#a) a quantidade de pessoas do sexo feminino cuja idade está entre 18 e 35;\n",
        "#b) a quantidade de pessoas que têm olhos castanhos e cabelos pretos.\n",
        "\n",
        "rangeidade = 0\n",
        "cabelocastanho = 0\n",
        "\n",
        "for i in range(5):\n",
        "    sexo = int(input(\"Digite seu gênero:\\n(1) para feminino\\n(2) para masculino\\n\"))\n",
        "    olhos = int(input(\"Digite a cor dos seus olhos:\\n(1) para azul\\n(2) para verde\\n(3) para castanho\\n\"))\n",
        "    cabelo = int(input(\"Digite a cor do seu cabelo:\\n(1) para loiro\\n(2) para castanho\\n(3) para preto\\n\"))\n",
        "    idade = int(input(\"Digite a sua idade:\\n\"))\n",
        "\n",
        "    if sexo == 1 and 18 <= idade <= 35:\n",
        "        rangeidade += 1\n",
        "    if olhos == 3 and cabelo == 3:\n",
        "        cabelocastanho += 1\n",
        "\n",
        "print(f\"A quantidade de pessoas do sexo feminino cuja idade está entre 18 e 35 é {rangeidade}\")\n",
        "print(f\"A quantidade de pessoas que têm olhos castanhos e cabelos pretos é {cabelocastanho}\")"
      ],
      "metadata": {
        "colab": {
          "base_uri": "https://localhost:8080/"
        },
        "id": "GueJxqnDJM1P",
        "outputId": "602d69f9-f3bd-44c4-f284-051f0ffe4473"
      },
      "execution_count": null,
      "outputs": [
        {
          "output_type": "stream",
          "name": "stdout",
          "text": [
            "Digite seu gênero:\n",
            "(1) para feminino\n",
            "(2) para masculino\n",
            "1\n",
            "Digite a cor dos seus olhos:\n",
            "(1) para azul\n",
            "(2) para verde\n",
            "(3) para castanho\n",
            "3\n",
            "Digite a cor do seu cabelo:\n",
            "(1) para loiro\n",
            "(2) para castanho\n",
            "(3) para pretos\n",
            "3\n",
            "Digite a sua idade:\n",
            "20\n",
            "Digite seu gênero:\n",
            "(1) para feminino\n",
            "(2) para masculino\n",
            "1\n",
            "Digite a cor dos seus olhos:\n",
            "(1) para azul\n",
            "(2) para verde\n",
            "(3) para castanho\n",
            "3\n",
            "Digite a cor do seu cabelo:\n",
            "(1) para loiro\n",
            "(2) para castanho\n",
            "(3) para pretos\n",
            "3\n",
            "Digite a sua idade:\n",
            "21\n",
            "Digite seu gênero:\n",
            "(1) para feminino\n",
            "(2) para masculino\n",
            "1\n",
            "Digite a cor dos seus olhos:\n",
            "(1) para azul\n",
            "(2) para verde\n",
            "(3) para castanho\n",
            "3\n",
            "Digite a cor do seu cabelo:\n",
            "(1) para loiro\n",
            "(2) para castanho\n",
            "(3) para pretos\n",
            "2\n",
            "Digite a sua idade:\n",
            "10\n",
            "Digite seu gênero:\n",
            "(1) para feminino\n",
            "(2) para masculino\n",
            "2\n",
            "Digite a cor dos seus olhos:\n",
            "(1) para azul\n",
            "(2) para verde\n",
            "(3) para castanho\n",
            "3\n",
            "Digite a cor do seu cabelo:\n",
            "(1) para loiro\n",
            "(2) para castanho\n",
            "(3) para pretos\n",
            "3\n",
            "Digite a sua idade:\n",
            "2\n",
            "Digite seu gênero:\n",
            "(1) para feminino\n",
            "(2) para masculino\n",
            "3\n",
            "Digite a cor dos seus olhos:\n",
            "(1) para azul\n",
            "(2) para verde\n",
            "(3) para castanho\n",
            "1\n",
            "Digite a cor do seu cabelo:\n",
            "(1) para loiro\n",
            "(2) para castanho\n",
            "(3) para pretos\n",
            "3\n",
            "Digite a sua idade:\n",
            "20\n",
            "A quantidade de pessoas do sexo feminino cuja idade está entre 18 e 35 é 2\n",
            "A quantidade de pessoas que têm olhos castanhos e cabelos pretos é 3\n"
          ]
        }
      ]
    },
    {
      "cell_type": "code",
      "source": [
        "#3. Um petshop atende 5 cachorros por tarde. Faça um programa que solicite ao usuário o código do serviço efetuado:\n",
        "#(1 - banho; 2 - tosa; 3 - banho e tosa; 4- outros). Por fim, exiba a quantidade de solicitações para cada um deles.\n",
        "serv1 = 0\n",
        "serv2 = 0\n",
        "serv3 = 0\n",
        "serv4 = 0\n",
        "\n",
        "for i in range(5):\n",
        "    servico = int(input(\"Selecione o código do serviço:\\n(1) banho\\n(2) tosa\\n(3) banho e tosa\\n(4) outros\\n\"))\n",
        "\n",
        "    if servico == 1:\n",
        "        serv1 += 1\n",
        "    elif servico == 2:\n",
        "        serv2 += 1\n",
        "    elif servico == 3:\n",
        "        serv3 += 16\n",
        "    elif servico == 4:\n",
        "        serv4 += 1\n",
        "    else:\n",
        "        print(\"Código inválido!\")\n",
        "        servico = int(input(\"Selecione o código do serviço:\\n(1) banho\\n(2) tosa\\n(3) banho e tosa\\n(4) outros\\n\"))\n",
        "\n",
        "print(f\"Relatório diário de serviços:\\n(1) banho: {serv1}\\n(2) tosa: {serv2}\\n(3) banho e tosa: {serv3}\\n(4) outros: {serv4}\")\n"
      ],
      "metadata": {
        "colab": {
          "base_uri": "https://localhost:8080/"
        },
        "id": "bUtH1P3NOEKL",
        "outputId": "facd7f92-6c09-4e1b-fd94-935079907f75"
      },
      "execution_count": null,
      "outputs": [
        {
          "output_type": "stream",
          "name": "stdout",
          "text": [
            "Selecione o código do serviço:\n",
            "(1) banho\n",
            "(2) tosa\n",
            "(3) banho e tosa\n",
            "(4) outros\n",
            "1\n",
            "Selecione o código do serviço:\n",
            "(1) banho\n",
            "(2) tosa\n",
            "(3) banho e tosa\n",
            "(4) outros\n",
            "2\n",
            "Selecione o código do serviço:\n",
            "(1) banho\n",
            "(2) tosa\n",
            "(3) banho e tosa\n",
            "(4) outros\n",
            "4\n",
            "Selecione o código do serviço:\n",
            "(1) banho\n",
            "(2) tosa\n",
            "(3) banho e tosa\n",
            "(4) outros\n",
            "5\n",
            "Código inválido!\n",
            "Selecione o código do serviço:\n",
            "(1) banho\n",
            "(2) tosa\n",
            "(3) banho e tosa\n",
            "(4) outros\n",
            "4\n",
            "Selecione o código do serviço:\n",
            "(1) banho\n",
            "(2) tosa\n",
            "(3) banho e tosa\n",
            "(4) outros\n",
            "4\n",
            "Relatório diário de serviços:\n",
            "(1) banho: 1\n",
            "(2) tosa: 1\n",
            "(3) banho e tosa: 0\n",
            "(4) outros: 2\n"
          ]
        }
      ]
    },
    {
      "cell_type": "code",
      "source": [
        "#Desenvolva um programa utilizando o para que faça a tabuada de um número\n",
        "#inteiro que será digitado pelo usuário. Mas a tabuada não deve necessariamente\n",
        "#iniciar em 1 e terminar em 10, o valor inicial e final devem ser informados pelo\n",
        "#usuário\n",
        "\n",
        "numero = int(input(\"***Tabuada Easy 2.0***\\nMontar a tabuada do: \"))\n",
        "\n",
        "comeco = int(input(\"Calcular de: \"))\n",
        "fim = int(input(\"Calcular até: \"))\n",
        "\n",
        "for i in range(comeco, fim + 1):\n",
        "    resultado = numero * i\n",
        "    print(f\"{numero} x {i} = {resultado}\")"
      ],
      "metadata": {
        "colab": {
          "base_uri": "https://localhost:8080/"
        },
        "id": "lJHjYB7ZQynv",
        "outputId": "f0ab9579-07ba-44b1-dbe7-7e68984287dc"
      },
      "execution_count": null,
      "outputs": [
        {
          "output_type": "stream",
          "name": "stdout",
          "text": [
            "***Tabuada Easy 2.0***\n",
            "Montar a tabuada do: 5\n",
            "Calcular de: 1\n",
            "Calcular até: 2\n",
            "5 x 1 = 5\n",
            "5 x 2 = 10\n"
          ]
        }
      ]
    },
    {
      "cell_type": "code",
      "source": [
        "soma = 0\n",
        "\n",
        "while True:\n",
        "    numero = int(input(\"Digite um número para ser somado ou Digite(1111) para encerrar o programa:\\n\"))\n",
        "\n",
        "    if numero == 1111:\n",
        "        break\n",
        "\n",
        "    soma += numero\n",
        "\n",
        "print(f\"A soma é: {soma}\")"
      ],
      "metadata": {
        "colab": {
          "base_uri": "https://localhost:8080/"
        },
        "id": "WWGTiG9-VxOu",
        "outputId": "16768547-a98c-434f-d59a-ec9bb52eba52"
      },
      "execution_count": null,
      "outputs": [
        {
          "output_type": "stream",
          "name": "stdout",
          "text": [
            "Digite um número para ser somado ou Digite(1111) para encerrar o programa:\n",
            "1\n",
            "Digite um número para ser somado ou Digite(1111) para encerrar o programa:\n",
            "2\n",
            "Digite um número para ser somado ou Digite(1111) para encerrar o programa:\n",
            "3\n",
            "Digite um número para ser somado ou Digite(1111) para encerrar o programa:\n",
            "111\n",
            "Digite um número para ser somado ou Digite(1111) para encerrar o programa:\n",
            "1111\n",
            "A soma é: 117\n"
          ]
        }
      ]
    }
  ]
}